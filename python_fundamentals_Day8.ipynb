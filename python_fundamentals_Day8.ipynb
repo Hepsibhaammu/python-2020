{
 "cells": [
  {
   "cell_type": "code",
   "execution_count": 15,
   "metadata": {},
   "outputs": [
    {
     "name": "stdout",
     "output_type": "stream",
     "text": [
      "{'color': 'green', 'points': 5}\n"
     ]
    }
   ],
   "source": [
    "alien_0 ={'color':'green','points':5}\n",
    "\n",
    "print(alien_0)"
   ]
  },
  {
   "cell_type": "code",
   "execution_count": 16,
   "metadata": {},
   "outputs": [
    {
     "name": "stdout",
     "output_type": "stream",
     "text": [
      "{'color': 'green', 'points': 5}\n"
     ]
    }
   ],
   "source": [
    "print(alien_0)"
   ]
  },
  {
   "cell_type": "code",
   "execution_count": 17,
   "metadata": {},
   "outputs": [
    {
     "name": "stdout",
     "output_type": "stream",
     "text": [
      "{'color': 'green'}\n"
     ]
    }
   ],
   "source": [
    "#how to remove the key-value pairs:\n",
    "\n",
    "del alien_0['points']\n",
    "\n",
    "print(alien_0)"
   ]
  },
  {
   "cell_type": "code",
   "execution_count": 13,
   "metadata": {},
   "outputs": [],
   "source": [
    "fav_lang = {\n",
    "    'sarika':'java',\n",
    "    'ammu':'swift',\n",
    "    'praveen':'c++',\n",
    "    'chitti':'python'\n",
    "}"
   ]
  },
  {
   "cell_type": "code",
   "execution_count": 14,
   "metadata": {},
   "outputs": [
    {
     "name": "stdout",
     "output_type": "stream",
     "text": [
      "{'sarika': 'java', 'ammu': 'swift', 'praveen': 'c++', 'chitti': 'python'}\n"
     ]
    }
   ],
   "source": [
    "print(fav_lang)"
   ]
  },
  {
   "cell_type": "code",
   "execution_count": 19,
   "metadata": {},
   "outputs": [
    {
     "name": "stdout",
     "output_type": "stream",
     "text": [
      "praveen's favourite language is C++\n"
     ]
    }
   ],
   "source": [
    "language = fav_lang['praveen'].title()\n",
    "\n",
    "print(f\"praveen's favourite language is {language}\")"
   ]
  },
  {
   "cell_type": "code",
   "execution_count": null,
   "metadata": {},
   "outputs": [],
   "source": [
    "# using get()to access the values----->"
   ]
  },
  {
   "cell_type": "code",
   "execution_count": 20,
   "metadata": {},
   "outputs": [
    {
     "ename": "KeyError",
     "evalue": "'points'",
     "output_type": "error",
     "traceback": [
      "\u001b[1;31m---------------------------------------------------------------------------\u001b[0m",
      "\u001b[1;31mKeyError\u001b[0m                                  Traceback (most recent call last)",
      "\u001b[1;32m<ipython-input-20-f1f50dde710a>\u001b[0m in \u001b[0;36m<module>\u001b[1;34m\u001b[0m\n\u001b[1;32m----> 1\u001b[1;33m \u001b[0mprint\u001b[0m\u001b[1;33m(\u001b[0m\u001b[0malien_0\u001b[0m\u001b[1;33m[\u001b[0m\u001b[1;34m'points'\u001b[0m\u001b[1;33m]\u001b[0m\u001b[1;33m)\u001b[0m\u001b[1;33m\u001b[0m\u001b[1;33m\u001b[0m\u001b[0m\n\u001b[0m",
      "\u001b[1;31mKeyError\u001b[0m: 'points'"
     ]
    }
   ],
   "source": [
    "print(alien_0['points'])"
   ]
  },
  {
   "cell_type": "code",
   "execution_count": 23,
   "metadata": {},
   "outputs": [
    {
     "name": "stdout",
     "output_type": "stream",
     "text": [
      "points value has been deleted earlier\n"
     ]
    }
   ],
   "source": [
    "point_value = alien_0.get('points','points value has been deleted earlier')\n",
    "                        \n",
    "print(point_value)"
   ]
  },
  {
   "cell_type": "code",
   "execution_count": 24,
   "metadata": {},
   "outputs": [
    {
     "name": "stdout",
     "output_type": "stream",
     "text": [
      "{'user name': 'preethi', 'first': 'praisy', 'last': 'gaddala'}\n"
     ]
    }
   ],
   "source": [
    "#looping through dictionaries:\n",
    "  \n",
    "user_0 = {\n",
    "    'user name':'preethi',\n",
    "    'first':'praisy',\n",
    "    'last':'gaddala'\n",
    "}\n",
    "\n",
    "print(user_0)"
   ]
  },
  {
   "cell_type": "code",
   "execution_count": 25,
   "metadata": {},
   "outputs": [
    {
     "name": "stdout",
     "output_type": "stream",
     "text": [
      "\n",
      "key: user name\n",
      "value:preethi\n",
      "\n",
      "key: first\n",
      "value:praisy\n",
      "\n",
      "key: last\n",
      "value:gaddala\n"
     ]
    }
   ],
   "source": [
    "# for key,value in user+0.items():#two temp var---->x,y\n",
    "#print(f\"\\nkey:{key}\")\n",
    "#print(f\"\\nvalue:{value}\")\n",
    "\n",
    "\n",
    "\n",
    "for x,y in user_0.items(): #two temp var----->x,y\n",
    "    print(f\"\\nkey: {x}\")\n",
    "    print(f\"value:{y}\")\n"
   ]
  },
  {
   "cell_type": "code",
   "execution_count": 26,
   "metadata": {},
   "outputs": [
    {
     "name": "stdout",
     "output_type": "stream",
     "text": [
      "User Name\n",
      "First\n",
      "Last\n"
     ]
    }
   ],
   "source": [
    "#how to get only keys!!\n",
    "for x in user_0.keys():\n",
    "    print(x.title())"
   ]
  },
  {
   "cell_type": "code",
   "execution_count": 27,
   "metadata": {},
   "outputs": [
    {
     "name": "stdout",
     "output_type": "stream",
     "text": [
      "Preethi\n",
      "Praisy\n",
      "Gaddala\n"
     ]
    }
   ],
   "source": [
    "for y in user_0.values():\n",
    "    print(y.title())"
   ]
  },
  {
   "cell_type": "code",
   "execution_count": null,
   "metadata": {},
   "outputs": [],
   "source": []
  },
  {
   "cell_type": "code",
   "execution_count": null,
   "metadata": {},
   "outputs": [],
   "source": []
  }
 ],
 "metadata": {
  "kernelspec": {
   "display_name": "Python 3",
   "language": "python",
   "name": "python3"
  },
  "language_info": {
   "codemirror_mode": {
    "name": "ipython",
    "version": 3
   },
   "file_extension": ".py",
   "mimetype": "text/x-python",
   "name": "python",
   "nbconvert_exporter": "python",
   "pygments_lexer": "ipython3",
   "version": "3.7.4"
  }
 },
 "nbformat": 4,
 "nbformat_minor": 2
}
