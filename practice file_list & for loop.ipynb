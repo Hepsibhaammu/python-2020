{
 "cells": [
  {
   "cell_type": "code",
   "execution_count": null,
   "metadata": {},
   "outputs": [],
   "source": [
    "Introduction to looping statements:"
   ]
  },
  {
   "cell_type": "code",
   "execution_count": 1,
   "metadata": {},
   "outputs": [],
   "source": [
    "students = ['mouni','minni','chandhu','siri','nani']  #main variable......"
   ]
  },
  {
   "cell_type": "code",
   "execution_count": 2,
   "metadata": {},
   "outputs": [
    {
     "name": "stdout",
     "output_type": "stream",
     "text": [
      "['mouni', 'minni', 'chandhu', 'siri', 'nani']\n"
     ]
    }
   ],
   "source": [
    "print(students)"
   ]
  },
  {
   "cell_type": "code",
   "execution_count": 3,
   "metadata": {},
   "outputs": [
    {
     "data": {
      "text/plain": [
       "list"
      ]
     },
     "execution_count": 3,
     "metadata": {},
     "output_type": "execute_result"
    }
   ],
   "source": [
    "type(students)"
   ]
  },
  {
   "cell_type": "code",
   "execution_count": null,
   "metadata": {},
   "outputs": [],
   "source": []
  },
  {
   "cell_type": "code",
   "execution_count": null,
   "metadata": {},
   "outputs": [],
   "source": [
    "req:iwant  to appriciate the students above in the list."
   ]
  },
  {
   "cell_type": "code",
   "execution_count": 6,
   "metadata": {},
   "outputs": [
    {
     "name": "stdout",
     "output_type": "stream",
     "text": [
      "Keep up the Good work,Mouni\n"
     ]
    }
   ],
   "source": [
    "print(f\"Keep up the Good work,{students[0].title()}\")  #individual appriciation....."
   ]
  },
  {
   "cell_type": "code",
   "execution_count": null,
   "metadata": {},
   "outputs": [],
   "source": []
  },
  {
   "cell_type": "code",
   "execution_count": null,
   "metadata": {},
   "outputs": [],
   "source": []
  },
  {
   "cell_type": "code",
   "execution_count": null,
   "metadata": {},
   "outputs": [],
   "source": []
  },
  {
   "cell_type": "code",
   "execution_count": null,
   "metadata": {},
   "outputs": [],
   "source": []
  },
  {
   "cell_type": "code",
   "execution_count": null,
   "metadata": {},
   "outputs": [],
   "source": [
    "# enhanced code "
   ]
  },
  {
   "cell_type": "code",
   "execution_count": null,
   "metadata": {},
   "outputs": [],
   "source": [
    "req:appiciate all the  students at a time(single shot exclustion)"
   ]
  },
  {
   "cell_type": "code",
   "execution_count": 13,
   "metadata": {},
   "outputs": [
    {
     "name": "stdout",
     "output_type": "stream",
     "text": [
      "Keep up the Good work,Mouni.\n",
      "\n",
      "Keep up the Good work,Minni.\n",
      "\n",
      "Keep up the Good work,Chandhu.\n",
      "\n",
      "Keep up the Good work,Siri.\n",
      "\n",
      "Keep up the Good work,Nani.\n",
      "\n"
     ]
    }
   ],
   "source": [
    "for student in students:\n",
    "    print(f\"Keep up the Good work,{student.title()}.\\n\")"
   ]
  },
  {
   "cell_type": "code",
   "execution_count": null,
   "metadata": {},
   "outputs": [],
   "source": []
  },
  {
   "cell_type": "code",
   "execution_count": null,
   "metadata": {},
   "outputs": [],
   "source": [
    "# introduction to for Loop:"
   ]
  },
  {
   "cell_type": "code",
   "execution_count": null,
   "metadata": {},
   "outputs": [],
   "source": [
    "#general syntax of a for loop."
   ]
  },
  {
   "cell_type": "code",
   "execution_count": 14,
   "metadata": {},
   "outputs": [
    {
     "ename": "SyntaxError",
     "evalue": "unexpected EOF while parsing (<ipython-input-14-7a975a6f909b>, line 1)",
     "output_type": "error",
     "traceback": [
      "\u001b[1;36m  File \u001b[1;32m\"<ipython-input-14-7a975a6f909b>\"\u001b[1;36m, line \u001b[1;32m1\u001b[0m\n\u001b[1;33m    for tempvar in mainvar:     #temp var....\u001b[0m\n\u001b[1;37m                                             ^\u001b[0m\n\u001b[1;31mSyntaxError\u001b[0m\u001b[1;31m:\u001b[0m unexpected EOF while parsing\n"
     ]
    }
   ],
   "source": [
    "for tempvar in mainvar:     #temp var...."
   ]
  },
  {
   "cell_type": "code",
   "execution_count": null,
   "metadata": {},
   "outputs": [],
   "source": [
    "for tempvar in mainvar:  #tempvar...\n",
    "    .print(tempvar)   #indentation....."
   ]
  },
  {
   "cell_type": "code",
   "execution_count": null,
   "metadata": {},
   "outputs": [],
   "source": []
  },
  {
   "cell_type": "code",
   "execution_count": 15,
   "metadata": {},
   "outputs": [
    {
     "name": "stdout",
     "output_type": "stream",
     "text": [
      "Keep up the Good work,Mouni.\n",
      "\n",
      "Keep up the Good work,Minni.\n",
      "\n",
      "Keep up the Good work,Chandhu.\n",
      "\n",
      "Keep up the Good work,Siri.\n",
      "\n",
      "Keep up the Good work,Nani.\n",
      "\n"
     ]
    }
   ],
   "source": [
    "for x in students:\n",
    "    print(f\"Keep up the Good work,{x.title()}.\\n\")"
   ]
  },
  {
   "cell_type": "code",
   "execution_count": 17,
   "metadata": {},
   "outputs": [
    {
     "name": "stdout",
     "output_type": "stream",
     "text": [
      "Keep up the Good work,Mouni.\n",
      "do send me the today practice file,Mouni.\n",
      "Keep up the Good work,Minni.\n",
      "do send me the today practice file,Minni.\n",
      "Keep up the Good work,Chandhu.\n",
      "do send me the today practice file,Chandhu.\n",
      "Keep up the Good work,Siri.\n",
      "do send me the today practice file,Siri.\n",
      "Keep up the Good work,Nani.\n",
      "do send me the today practice file,Nani.\n"
     ]
    }
   ],
   "source": [
    "for x in students:\n",
    "    print(f\"Keep up the Good work,{x.title()}.\")\n",
    "    print(f\"do send me the today practice file,{x.title()}.\")"
   ]
  },
  {
   "cell_type": "code",
   "execution_count": 18,
   "metadata": {},
   "outputs": [
    {
     "name": "stdout",
     "output_type": "stream",
     "text": [
      "Keep up the Good work,Mouni.\n",
      "do send me the today practice file,Mouni.\n",
      "\n",
      "Keep up the Good work,Minni.\n",
      "do send me the today practice file,Minni.\n",
      "\n",
      "Keep up the Good work,Chandhu.\n",
      "do send me the today practice file,Chandhu.\n",
      "\n",
      "Keep up the Good work,Siri.\n",
      "do send me the today practice file,Siri.\n",
      "\n",
      "Keep up the Good work,Nani.\n",
      "do send me the today practice file,Nani.\n",
      "\n"
     ]
    }
   ],
   "source": [
    "for x in students:\n",
    "    print(f\"Keep up the Good work,{x.title()}.\")\n",
    "    print(f\"do send me the today practice file,{x.title()}.\\n\")"
   ]
  },
  {
   "cell_type": "code",
   "execution_count": null,
   "metadata": {},
   "outputs": [],
   "source": []
  },
  {
   "cell_type": "code",
   "execution_count": null,
   "metadata": {},
   "outputs": [],
   "source": []
  },
  {
   "cell_type": "code",
   "execution_count": null,
   "metadata": {},
   "outputs": [],
   "source": []
  },
  {
   "cell_type": "code",
   "execution_count": null,
   "metadata": {},
   "outputs": [],
   "source": []
  },
  {
   "cell_type": "code",
   "execution_count": null,
   "metadata": {},
   "outputs": [],
   "source": []
  },
  {
   "cell_type": "code",
   "execution_count": null,
   "metadata": {},
   "outputs": [],
   "source": []
  },
  {
   "cell_type": "code",
   "execution_count": null,
   "metadata": {},
   "outputs": [],
   "source": []
  }
 ],
 "metadata": {
  "kernelspec": {
   "display_name": "Python 3",
   "language": "python",
   "name": "python3"
  },
  "language_info": {
   "codemirror_mode": {
    "name": "ipython",
    "version": 3
   },
   "file_extension": ".py",
   "mimetype": "text/x-python",
   "name": "python",
   "nbconvert_exporter": "python",
   "pygments_lexer": "ipython3",
   "version": "3.7.4"
  }
 },
 "nbformat": 4,
 "nbformat_minor": 2
}
