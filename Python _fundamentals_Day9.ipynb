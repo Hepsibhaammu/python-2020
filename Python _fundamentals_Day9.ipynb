{
 "cells": [
  {
   "cell_type": "code",
   "execution_count": null,
   "metadata": {},
   "outputs": [],
   "source": [
    "#enhacement of the code:\n",
    "sarika, greeting the user!!"
   ]
  },
  {
   "cell_type": "code",
   "execution_count": null,
   "metadata": {},
   "outputs": [],
   "source": [
    "name = input(\"please enter your name!\")\n",
    "print(f\"welcome back,Good to see you {name}!\")"
   ]
  },
  {
   "cell_type": "code",
   "execution_count": null,
   "metadata": {},
   "outputs": [],
   "source": [
    "#Building an voting pplication:\n",
    "\n",
    "1.person should be more then 18 years of the criteria."
   ]
  },
  {
   "cell_type": "code",
   "execution_count": null,
   "metadata": {},
   "outputs": [],
   "source": [
    "age = input('how old are you?')\n",
    "age = int(age)\n",
    "if age>=18:\n",
    "    print(\"\\n your aligible to vote!\")\n",
    "else:\n",
    "    print('\\n try next year')\n",
    "            \n",
    "            \n",
    "            \n",
    "            #str\n",
    "            #int"
   ]
  },
  {
   "cell_type": "code",
   "execution_count": null,
   "metadata": {},
   "outputs": [],
   "source": [
    "#problem statment:\n",
    "we have to tell the entered num is even or odd.....!!"
   ]
  },
  {
   "cell_type": "code",
   "execution_count": null,
   "metadata": {},
   "outputs": [],
   "source": [
    "num = input('enter a num,and i will tell you its even or odd!')\n",
    "num = int(num)\n",
    "if num%2 ==0:\n",
    "    print(f\"\\n the number{num} is even!\")\n",
    "else:\n",
    "    print(f\"\\n the number {num} is odd!\") \n",
    "    \n",
    "    #str\n",
    "    #int"
   ]
  },
  {
   "cell_type": "code",
   "execution_count": null,
   "metadata": {},
   "outputs": [],
   "source": [
    "#introduction to while loops:\n",
    "\n",
    "while---- when do we use it in general....? happening of the event!!\n",
    "\n",
    "as long as a certain code remains true:"
   ]
  },
  {
   "cell_type": "code",
   "execution_count": null,
   "metadata": {},
   "outputs": [],
   "source": [
    "current_num = 1\n",
    "\n",
    "while current_num <=5:  #condition that num shold not exceed 5\n",
    "    print(current_num)\n",
    "    current_num +=2  #+1......"
   ]
  },
  {
   "cell_type": "code",
   "execution_count": null,
   "metadata": {},
   "outputs": [],
   "source": []
  },
  {
   "cell_type": "code",
   "execution_count": null,
   "metadata": {},
   "outputs": [],
   "source": []
  },
  {
   "cell_type": "code",
   "execution_count": null,
   "metadata": {},
   "outputs": [],
   "source": []
  },
  {
   "cell_type": "code",
   "execution_count": null,
   "metadata": {},
   "outputs": [],
   "source": []
  },
  {
   "cell_type": "code",
   "execution_count": null,
   "metadata": {},
   "outputs": [],
   "source": []
  }
 ],
 "metadata": {
  "kernelspec": {
   "display_name": "Python 3",
   "language": "python",
   "name": "python3"
  },
  "language_info": {
   "codemirror_mode": {
    "name": "ipython",
    "version": 3
   },
   "file_extension": ".py",
   "mimetype": "text/x-python",
   "name": "python",
   "nbconvert_exporter": "python",
   "pygments_lexer": "ipython3",
   "version": "3.7.4"
  }
 },
 "nbformat": 4,
 "nbformat_minor": 2
}
