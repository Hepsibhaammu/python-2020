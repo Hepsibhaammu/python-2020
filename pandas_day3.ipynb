{
 "cells": [
  {
   "cell_type": "code",
   "execution_count": null,
   "metadata": {},
   "outputs": [],
   "source": [
    "series and dataframes"
   ]
  },
  {
   "cell_type": "code",
   "execution_count": null,
   "metadata": {},
   "outputs": [],
   "source": [
    "What fileformats we can work with pandas:"
   ]
  },
  {
   "cell_type": "code",
   "execution_count": null,
   "metadata": {},
   "outputs": [],
   "source": [
    "1.Text files .....(sv,json,html......human readable format)\n",
    "2.Binaryfiles.....0101010101\n",
    "3.Relationaldatabase\n"
   ]
  },
  {
   "cell_type": "code",
   "execution_count": 1,
   "metadata": {},
   "outputs": [],
   "source": [
    "import numpy as np\n",
    "import pandas as pd"
   ]
  },
  {
   "cell_type": "code",
   "execution_count": 5,
   "metadata": {},
   "outputs": [
    {
     "name": "stderr",
     "output_type": "stream",
     "text": [
      "C:\\Users\\prave\\Anaconda3n\\lib\\site-packages\\IPython\\core\\interactiveshell.py:3058: DtypeWarning: Columns (9,13) have mixed types. Specify dtype option on import or set low_memory=False.\n",
      "  interactivity=interactivity, compiler=compiler, result=result)\n"
     ]
    },
    {
     "name": "stdout",
     "output_type": "stream",
     "text": [
      "           id accession_number              artist artistRole  artistId  \\\n",
      "0        1035           A00001       Blake, Robert     artist        38   \n",
      "1        1036           A00002       Blake, Robert     artist        38   \n",
      "2        1037           A00003       Blake, Robert     artist        38   \n",
      "3        1038           A00004       Blake, Robert     artist        38   \n",
      "4        1039           A00005      Blake, William     artist        39   \n",
      "...       ...              ...                 ...        ...       ...   \n",
      "69196  122960           T13865  P-Orridge, Genesis     artist     16646   \n",
      "69197  122961           T13866  P-Orridge, Genesis     artist     16646   \n",
      "69198  121181           T13867        Hatoum, Mona     artist      2365   \n",
      "69199  112306           T13868       Creed, Martin     artist      2760   \n",
      "69200  127035           T13869   Brunias, Agostino     artist      3824   \n",
      "\n",
      "                                                   title  \\\n",
      "0      A Figure Bowing before a Seated Old Man with h...   \n",
      "1      Two Drawings of Frightened Figures, Probably f...   \n",
      "2      The Preaching of Warning. Verso: An Old Man En...   \n",
      "3         Six Drawings of Figures with Outstretched Arms   \n",
      "4      The Circle of the Lustful: Francesca da Rimini...   \n",
      "...                                                  ...   \n",
      "69196                        Larvae (from Tampax Romana)   \n",
      "69197                   Living Womb (from Tampax Romana)   \n",
      "69198                                      Present Tense   \n",
      "69199          Work No. 227: The lights going on and off   \n",
      "69200                   Dancing Scene in the West Indies   \n",
      "\n",
      "                     dateText  \\\n",
      "0              date not known   \n",
      "1              date not known   \n",
      "2                     ?c.1785   \n",
      "3              date not known   \n",
      "4      1826–7, reprinted 1892   \n",
      "...                       ...   \n",
      "69196                    1975   \n",
      "69197                    1976   \n",
      "69198                    1996   \n",
      "69199                    2000   \n",
      "69200                 1764–96   \n",
      "\n",
      "                                                  medium  \\\n",
      "0      Watercolour, ink, chalk and graphite on paper....   \n",
      "1                                      Graphite on paper   \n",
      "2            Graphite on paper. Verso: graphite on paper   \n",
      "3                                      Graphite on paper   \n",
      "4                                Line engraving on paper   \n",
      "...                                                  ...   \n",
      "69196   Perspex, Wood, hairpiece, tampon and human blood   \n",
      "69197  Wood, Perspex, plastic, photograph on paper, t...   \n",
      "69198                               Soap and glass beads   \n",
      "69199                                   Gallery lighting   \n",
      "69200                                Oil paint on canvas   \n",
      "\n",
      "                                              creditLine  year  \\\n",
      "0                    Presented by Mrs John Richmond 1922   NaN   \n",
      "1                    Presented by Mrs John Richmond 1922   NaN   \n",
      "2                    Presented by Mrs John Richmond 1922  1785   \n",
      "3                    Presented by Mrs John Richmond 1922   NaN   \n",
      "4      Purchased with the assistance of a special gra...  1826   \n",
      "...                                                  ...   ...   \n",
      "69196                 Transferred from Tate Archive 2012  1975   \n",
      "69197                 Transferred from Tate Archive 2012  1976   \n",
      "69198                     Presented by Tate Members 2013  1996   \n",
      "69199  Purchased with funds provided by Tate Members,...  2000   \n",
      "69200  Purchased with assistance from Tate Patrons an...  1764   \n",
      "\n",
      "       acquisitionYear                           dimensions width height  \\\n",
      "0               1922.0                support: 394 x 419 mm   394    419   \n",
      "1               1922.0                support: 311 x 213 mm   311    213   \n",
      "2               1922.0                support: 343 x 467 mm   343    467   \n",
      "3               1922.0                support: 318 x 394 mm   318    394   \n",
      "4               1919.0                  image: 243 x 335 mm   243    335   \n",
      "...                ...                                  ...   ...    ...   \n",
      "69196           2013.0           object: 305 x 305 x 135 mm   305    305   \n",
      "69197           2013.0           object: 305 x 305 x 135 mm   305    305   \n",
      "69198           2013.0       displayed: 45 x 2410 x 2990 mm    45   2410   \n",
      "69199           2013.0  Overall display dimensions variable   NaN    NaN   \n",
      "69200           2013.0            unconfirmed: 508 x 660 mm   508    660   \n",
      "\n",
      "        depth units inscription thumbnailCopyright  \\\n",
      "0         NaN    mm         NaN                NaN   \n",
      "1         NaN    mm         NaN                NaN   \n",
      "2         NaN    mm         NaN                NaN   \n",
      "3         NaN    mm         NaN                NaN   \n",
      "4         NaN    mm         NaN                NaN   \n",
      "...       ...   ...         ...                ...   \n",
      "69196   135.0    mm         NaN                NaN   \n",
      "69197   135.0    mm         NaN                NaN   \n",
      "69198  2990.0    mm         NaN                NaN   \n",
      "69199     NaN   NaN         NaN                NaN   \n",
      "69200     NaN    mm         NaN                NaN   \n",
      "\n",
      "                                            thumbnailUrl  \\\n",
      "0      http://www.tate.org.uk/art/images/work/A/A00/A...   \n",
      "1      http://www.tate.org.uk/art/images/work/A/A00/A...   \n",
      "2      http://www.tate.org.uk/art/images/work/A/A00/A...   \n",
      "3      http://www.tate.org.uk/art/images/work/A/A00/A...   \n",
      "4      http://www.tate.org.uk/art/images/work/A/A00/A...   \n",
      "...                                                  ...   \n",
      "69196                                                NaN   \n",
      "69197                                                NaN   \n",
      "69198                                                NaN   \n",
      "69199                                                NaN   \n",
      "69200  http://www.tate.org.uk/art/images/work/T/T13/T...   \n",
      "\n",
      "                                                     url  \n",
      "0      http://www.tate.org.uk/art/artworks/blake-a-fi...  \n",
      "1      http://www.tate.org.uk/art/artworks/blake-two-...  \n",
      "2      http://www.tate.org.uk/art/artworks/blake-the-...  \n",
      "3      http://www.tate.org.uk/art/artworks/blake-six-...  \n",
      "4      http://www.tate.org.uk/art/artworks/blake-the-...  \n",
      "...                                                  ...  \n",
      "69196  http://www.tate.org.uk/art/artworks/p-orridge-...  \n",
      "69197  http://www.tate.org.uk/art/artworks/p-orridge-...  \n",
      "69198  http://www.tate.org.uk/art/artworks/hatoum-pre...  \n",
      "69199  http://www.tate.org.uk/art/artworks/creed-work...  \n",
      "69200  http://www.tate.org.uk/art/artworks/brunias-da...  \n",
      "\n",
      "[69201 rows x 20 columns]\n"
     ]
    }
   ],
   "source": [
    "df=pd.read_csv('C:\\\\Users\\\\prave\\\\Downloads\\\\artwork_data.csv')\n",
    "print(df)"
   ]
  },
  {
   "cell_type": "code",
   "execution_count": 7,
   "metadata": {},
   "outputs": [
    {
     "name": "stdout",
     "output_type": "stream",
     "text": [
      "     id accession_number          artist artistRole  artistId  \\\n",
      "0  1035           A00001   Blake, Robert     artist        38   \n",
      "1  1036           A00002   Blake, Robert     artist        38   \n",
      "2  1037           A00003   Blake, Robert     artist        38   \n",
      "3  1038           A00004   Blake, Robert     artist        38   \n",
      "4  1039           A00005  Blake, William     artist        39   \n",
      "\n",
      "                                               title                dateText  \\\n",
      "0  A Figure Bowing before a Seated Old Man with h...          date not known   \n",
      "1  Two Drawings of Frightened Figures, Probably f...          date not known   \n",
      "2  The Preaching of Warning. Verso: An Old Man En...                 ?c.1785   \n",
      "3     Six Drawings of Figures with Outstretched Arms          date not known   \n",
      "4  The Circle of the Lustful: Francesca da Rimini...  1826–7, reprinted 1892   \n",
      "\n",
      "                                              medium  \\\n",
      "0  Watercolour, ink, chalk and graphite on paper....   \n",
      "1                                  Graphite on paper   \n",
      "2        Graphite on paper. Verso: graphite on paper   \n",
      "3                                  Graphite on paper   \n",
      "4                            Line engraving on paper   \n",
      "\n",
      "                                          creditLine    year  acquisitionYear  \\\n",
      "0                Presented by Mrs John Richmond 1922     NaN             1922   \n",
      "1                Presented by Mrs John Richmond 1922     NaN             1922   \n",
      "2                Presented by Mrs John Richmond 1922  1785.0             1922   \n",
      "3                Presented by Mrs John Richmond 1922     NaN             1922   \n",
      "4  Purchased with the assistance of a special gra...  1826.0             1919   \n",
      "\n",
      "              dimensions  width  height  depth units  inscription  \\\n",
      "0  support: 394 x 419 mm    394     419    NaN    mm          NaN   \n",
      "1  support: 311 x 213 mm    311     213    NaN    mm          NaN   \n",
      "2  support: 343 x 467 mm    343     467    NaN    mm          NaN   \n",
      "3  support: 318 x 394 mm    318     394    NaN    mm          NaN   \n",
      "4    image: 243 x 335 mm    243     335    NaN    mm          NaN   \n",
      "\n",
      "   thumbnailCopyright                                       thumbnailUrl  \\\n",
      "0                 NaN  http://www.tate.org.uk/art/images/work/A/A00/A...   \n",
      "1                 NaN  http://www.tate.org.uk/art/images/work/A/A00/A...   \n",
      "2                 NaN  http://www.tate.org.uk/art/images/work/A/A00/A...   \n",
      "3                 NaN  http://www.tate.org.uk/art/images/work/A/A00/A...   \n",
      "4                 NaN  http://www.tate.org.uk/art/images/work/A/A00/A...   \n",
      "\n",
      "                                                 url  \n",
      "0  http://www.tate.org.uk/art/artworks/blake-a-fi...  \n",
      "1  http://www.tate.org.uk/art/artworks/blake-two-...  \n",
      "2  http://www.tate.org.uk/art/artworks/blake-the-...  \n",
      "3  http://www.tate.org.uk/art/artworks/blake-six-...  \n",
      "4  http://www.tate.org.uk/art/artworks/blake-the-...  \n"
     ]
    }
   ],
   "source": [
    "df=pd.read_csv('C:\\\\Users\\\\prave\\\\Downloads\\\\artwork_data.csv',nrows=5)\n",
    "print(df)"
   ]
  },
  {
   "cell_type": "code",
   "execution_count": null,
   "metadata": {},
   "outputs": [],
   "source": [
    "#req:to use the id column which is available in the dataset"
   ]
  },
  {
   "cell_type": "code",
   "execution_count": 9,
   "metadata": {},
   "outputs": [
    {
     "name": "stdout",
     "output_type": "stream",
     "text": [
      "                    artist\n",
      "id                        \n",
      "1035         Blake, Robert\n",
      "1036         Blake, Robert\n",
      "1037         Blake, Robert\n",
      "1038         Blake, Robert\n",
      "1039        Blake, William\n",
      "...                    ...\n",
      "122960  P-Orridge, Genesis\n",
      "122961  P-Orridge, Genesis\n",
      "121181        Hatoum, Mona\n",
      "112306       Creed, Martin\n",
      "127035   Brunias, Agostino\n",
      "\n",
      "[69201 rows x 1 columns]\n"
     ]
    }
   ],
   "source": [
    "df=pd.read_csv('C:\\\\Users\\\\prave\\\\Downloads\\\\artwork_data.csv',index_col='id',usecols=['id','artist'])\n",
    "print(df)"
   ]
  },
  {
   "cell_type": "code",
   "execution_count": null,
   "metadata": {},
   "outputs": [],
   "source": [
    "#further_enhancements:"
   ]
  },
  {
   "cell_type": "code",
   "execution_count": 13,
   "metadata": {},
   "outputs": [],
   "source": [
    "COLS_TO_USE=['id','artist','title','medium','year','acquisitionYear','height','width','units']"
   ]
  },
  {
   "cell_type": "code",
   "execution_count": 14,
   "metadata": {},
   "outputs": [
    {
     "name": "stdout",
     "output_type": "stream",
     "text": [
      "              artist                                              title  \\\n",
      "id                                                                        \n",
      "1035   Blake, Robert  A Figure Bowing before a Seated Old Man with h...   \n",
      "1036   Blake, Robert  Two Drawings of Frightened Figures, Probably f...   \n",
      "1037   Blake, Robert  The Preaching of Warning. Verso: An Old Man En...   \n",
      "1038   Blake, Robert     Six Drawings of Figures with Outstretched Arms   \n",
      "1039  Blake, William  The Circle of the Lustful: Francesca da Rimini...   \n",
      "1040  Blake, William      Ciampolo the Barrator Tormented by the Devils   \n",
      "1041  Blake, William                        The Baffled Devils Fighting   \n",
      "\n",
      "                                                 medium    year  \\\n",
      "id                                                                \n",
      "1035  Watercolour, ink, chalk and graphite on paper....     NaN   \n",
      "1036                                  Graphite on paper     NaN   \n",
      "1037        Graphite on paper. Verso: graphite on paper  1785.0   \n",
      "1038                                  Graphite on paper     NaN   \n",
      "1039                            Line engraving on paper  1826.0   \n",
      "1040                            Line engraving on paper  1826.0   \n",
      "1041                            Line engraving on paper  1826.0   \n",
      "\n",
      "      acquisitionYear  width  height units  \n",
      "id                                          \n",
      "1035             1922    394     419    mm  \n",
      "1036             1922    311     213    mm  \n",
      "1037             1922    343     467    mm  \n",
      "1038             1922    318     394    mm  \n",
      "1039             1919    243     335    mm  \n",
      "1040             1919    240     338    mm  \n",
      "1041             1919    242     334    mm  \n"
     ]
    }
   ],
   "source": [
    "df=pd.read_csv('C:\\\\Users\\\\prave\\\\Downloads\\\\artwork_data.csv',nrows=7,index_col='id',usecols=COLS_TO_USE)\n",
    "print(df)"
   ]
  },
  {
   "cell_type": "code",
   "execution_count": null,
   "metadata": {},
   "outputs": [],
   "source": []
  },
  {
   "cell_type": "code",
   "execution_count": null,
   "metadata": {},
   "outputs": [],
   "source": []
  },
  {
   "cell_type": "code",
   "execution_count": null,
   "metadata": {},
   "outputs": [],
   "source": []
  },
  {
   "cell_type": "code",
   "execution_count": null,
   "metadata": {},
   "outputs": [],
   "source": []
  },
  {
   "cell_type": "code",
   "execution_count": null,
   "metadata": {},
   "outputs": [],
   "source": []
  },
  {
   "cell_type": "code",
   "execution_count": null,
   "metadata": {},
   "outputs": [],
   "source": []
  },
  {
   "cell_type": "code",
   "execution_count": null,
   "metadata": {},
   "outputs": [],
   "source": []
  },
  {
   "cell_type": "code",
   "execution_count": null,
   "metadata": {},
   "outputs": [],
   "source": []
  },
  {
   "cell_type": "code",
   "execution_count": null,
   "metadata": {},
   "outputs": [],
   "source": []
  }
 ],
 "metadata": {
  "kernelspec": {
   "display_name": "Python 3",
   "language": "python",
   "name": "python3"
  },
  "language_info": {
   "codemirror_mode": {
    "name": "ipython",
    "version": 3
   },
   "file_extension": ".py",
   "mimetype": "text/x-python",
   "name": "python",
   "nbconvert_exporter": "python",
   "pygments_lexer": "ipython3",
   "version": "3.7.4"
  }
 },
 "nbformat": 4,
 "nbformat_minor": 2
}
